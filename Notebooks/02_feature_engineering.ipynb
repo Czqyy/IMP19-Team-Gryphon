{
 "cells": [
  {
   "cell_type": "code",
   "execution_count": 1,
   "metadata": {},
   "outputs": [],
   "source": [
    "import sys\n",
    "import os\n",
    "import torch\n",
    "import networkx as nx\n",
    "import pandas as pd\n",
    "\n",
    "src_path = os.path.abspath(os.path.join('..', 'src'))\n",
    "sys.path.append(src_path)\n",
    "\n",
    "from transformers import pipeline\n",
    "\n",
    "\n",
    "src_path = os.path.abspath(os.path.join('..', 'src'))\n",
    "sys.path.append(src_path)"
   ]
  },
  {
   "cell_type": "code",
   "execution_count": null,
   "metadata": {},
   "outputs": [],
   "source": [
    "file_path = r'C:\\Users\\User\\OneDrive - Imperial College London\\Desktop\\Documents\\GitHub\\IBM-Datathon\\Dataset\\raw_data\\reddit_data_raw.csv'\n",
    "df = pd.read_csv(file_path)\n",
    "df.head()"
   ]
  },
  {
   "cell_type": "code",
   "execution_count": null,
   "metadata": {},
   "outputs": [],
   "source": [
    "device = 0 if torch.cuda.is_available() else -1\n",
    "\n",
    "if device == 0:\n",
    "    print('Using GPU')\n",
    "else:\n",
    "    print('Using CPU')\n",
    "\n",
    "pipe = pipeline(\"text-classification\", model=\"distilbert/distilbert-base-uncased-finetuned-sst-2-english\", device=device)\n",
    "pipe.save_pretrained(os.path.join('..', 'src', 'Sentiment', 'sentiment_model'))"
   ]
  },
  {
   "cell_type": "code",
   "execution_count": null,
   "metadata": {},
   "outputs": [],
   "source": [
    "def classify_comment(comment):\n",
    "    truncated_comment = comment[:512]\n",
    "    result = pipe(truncated_comment)\n",
    "\n",
    "    label = result[0]['label']\n",
    "    return 1 if label == 'POSITIVE' else -1\n",
    "\n",
    "\n",
    "df['label'] = df['comment'].apply(classify_comment)"
   ]
  },
  {
   "cell_type": "code",
   "execution_count": 5,
   "metadata": {},
   "outputs": [],
   "source": [
    "folder_path = r'C:\\Users\\User\\OneDrive - Imperial College London\\Desktop\\Documents\\GitHub\\IBM-Datathon\\Dataset\\labelled_data'\n",
    "csv_file_path = os.path.join(folder_path, 'reddit_data_labelled.csv')\n",
    "\n",
    "df.to_csv(csv_file_path, index=False)"
   ]
  },
  {
   "cell_type": "code",
   "execution_count": 6,
   "metadata": {},
   "outputs": [],
   "source": [
    "edge_list_path = r'C:\\Users\\User\\OneDrive - Imperial College London\\Desktop\\Documents\\GitHub\\IBM-Datathon\\Dataset\\raw_graph\\edges_list.csv'\n",
    "edges_df = pd.read_csv(edge_list_path)\n",
    "\n",
    "G = nx.from_pandas_edgelist(edges_df, source='source', target='target')"
   ]
  },
  {
   "cell_type": "code",
   "execution_count": null,
   "metadata": {},
   "outputs": [],
   "source": []
  }
 ],
 "metadata": {
  "kernelspec": {
   "display_name": "Python 3",
   "language": "python",
   "name": "python3"
  },
  "language_info": {
   "codemirror_mode": {
    "name": "ipython",
    "version": 3
   },
   "file_extension": ".py",
   "mimetype": "text/x-python",
   "name": "python",
   "nbconvert_exporter": "python",
   "pygments_lexer": "ipython3",
   "version": "3.12.3"
  }
 },
 "nbformat": 4,
 "nbformat_minor": 2
}
