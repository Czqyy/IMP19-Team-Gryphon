{
 "cells": [
  {
   "cell_type": "code",
   "execution_count": 1,
   "metadata": {},
   "outputs": [],
   "source": [
    "import pandas as pd\n",
    "import sys\n",
    "import os\n",
    "\n",
    "from transformers import pipeline\n",
    "import torch\n",
    "\n",
    "src_path = os.path.abspath(os.path.join('..', 'src'))\n",
    "sys.path.append(src_path)"
   ]
  },
  {
   "cell_type": "code",
   "execution_count": 2,
   "metadata": {},
   "outputs": [
    {
     "data": {
      "text/html": [
       "<div>\n",
       "<style scoped>\n",
       "    .dataframe tbody tr th:only-of-type {\n",
       "        vertical-align: middle;\n",
       "    }\n",
       "\n",
       "    .dataframe tbody tr th {\n",
       "        vertical-align: top;\n",
       "    }\n",
       "\n",
       "    .dataframe thead th {\n",
       "        text-align: right;\n",
       "    }\n",
       "</style>\n",
       "<table border=\"1\" class=\"dataframe\">\n",
       "  <thead>\n",
       "    <tr style=\"text-align: right;\">\n",
       "      <th></th>\n",
       "      <th>user</th>\n",
       "      <th>replying_to</th>\n",
       "      <th>comment</th>\n",
       "    </tr>\n",
       "  </thead>\n",
       "  <tbody>\n",
       "    <tr>\n",
       "      <th>0</th>\n",
       "      <td>Hockeygoalie41</td>\n",
       "      <td>AutoModerator</td>\n",
       "      <td>I am sad my team's (Rowdies) last few games ha...</td>\n",
       "    </tr>\n",
       "    <tr>\n",
       "      <th>1</th>\n",
       "      <td>caspirinha</td>\n",
       "      <td>AutoModerator</td>\n",
       "      <td>Dulwich Hamlet sell-out second week in a row, ...</td>\n",
       "    </tr>\n",
       "    <tr>\n",
       "      <th>2</th>\n",
       "      <td>Pizzonia123</td>\n",
       "      <td>AutoModerator</td>\n",
       "      <td>Probably the last home game of the season. Cou...</td>\n",
       "    </tr>\n",
       "    <tr>\n",
       "      <th>3</th>\n",
       "      <td>EnDubb</td>\n",
       "      <td>AutoModerator</td>\n",
       "      <td>Free Saturday so it's Basingstoke Town today a...</td>\n",
       "    </tr>\n",
       "    <tr>\n",
       "      <th>4</th>\n",
       "      <td>thelargerake</td>\n",
       "      <td>AutoModerator</td>\n",
       "      <td>My team play tomorrow (all being well with the...</td>\n",
       "    </tr>\n",
       "  </tbody>\n",
       "</table>\n",
       "</div>"
      ],
      "text/plain": [
       "             user    replying_to  \\\n",
       "0  Hockeygoalie41  AutoModerator   \n",
       "1      caspirinha  AutoModerator   \n",
       "2     Pizzonia123  AutoModerator   \n",
       "3          EnDubb  AutoModerator   \n",
       "4    thelargerake  AutoModerator   \n",
       "\n",
       "                                             comment  \n",
       "0  I am sad my team's (Rowdies) last few games ha...  \n",
       "1  Dulwich Hamlet sell-out second week in a row, ...  \n",
       "2  Probably the last home game of the season. Cou...  \n",
       "3  Free Saturday so it's Basingstoke Town today a...  \n",
       "4  My team play tomorrow (all being well with the...  "
      ]
     },
     "execution_count": 2,
     "metadata": {},
     "output_type": "execute_result"
    }
   ],
   "source": [
    "file_path = r'C:\\Users\\User\\OneDrive - Imperial College London\\Desktop\\Documents\\GitHub\\IBM-Datathon\\Dataset\\raw_data\\reddit_data_raw.csv'\n",
    "df = pd.read_csv(file_path)\n",
    "df.head()"
   ]
  },
  {
   "cell_type": "code",
   "execution_count": 5,
   "metadata": {},
   "outputs": [],
   "source": [
    "device = 0 if torch.cuda.is_available() else -1  # Use GPU if available, otherwise fallback to CPU\n",
    "pipe = pipeline(\"text-classification\", model=\"distilbert/distilbert-base-uncased-finetuned-sst-2-english\", device=device)\n",
    "pipe.save_pretrained(os.path.join('..', 'src', 'Sentiment', 'sentiment_model'))"
   ]
  },
  {
   "cell_type": "code",
   "execution_count": 6,
   "metadata": {},
   "outputs": [],
   "source": [
    "def classify_comment(comment):\n",
    "    truncated_comment = comment[:512]\n",
    "    result = pipe(truncated_comment)\n",
    "\n",
    "    label = result[0]['label']\n",
    "    return 1 if label == 'POSITIVE' else -1\n",
    "\n",
    "\n",
    "df['label'] = df['comment'].apply(classify_comment)"
   ]
  },
  {
   "cell_type": "code",
   "execution_count": 8,
   "metadata": {},
   "outputs": [],
   "source": [
    "folder_path = r'C:\\Users\\User\\OneDrive - Imperial College London\\Desktop\\Documents\\GitHub\\IBM-Datathon\\Dataset\\labelled_data'\n",
    "csv_file_path = os.path.join(folder_path, 'reddit_data_labelled.csv')\n",
    "\n",
    "df.to_csv(csv_file_path, index=False)"
   ]
  }
 ],
 "metadata": {
  "kernelspec": {
   "display_name": "Python 3",
   "language": "python",
   "name": "python3"
  },
  "language_info": {
   "codemirror_mode": {
    "name": "ipython",
    "version": 3
   },
   "file_extension": ".py",
   "mimetype": "text/x-python",
   "name": "python",
   "nbconvert_exporter": "python",
   "pygments_lexer": "ipython3",
   "version": "3.12.3"
  }
 },
 "nbformat": 4,
 "nbformat_minor": 2
}
