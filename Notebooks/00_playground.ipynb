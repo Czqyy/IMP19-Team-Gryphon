{
 "cells": [
  {
   "cell_type": "code",
   "execution_count": 1,
   "metadata": {},
   "outputs": [],
   "source": [
    "import sys\n",
    "import os\n",
    "import networkx as nx\n",
    "import pandas as pd\n",
    "import numpy as np\n",
    "\n",
    "\n",
    "src_path = os.path.abspath(os.path.join('..', 'src'))\n",
    "sys.path.append(src_path)\n",
    "\n",
    "from Ising_Model.IsingModel import IsingModel\n",
    "\n",
    "\n",
    "src_path = os.path.abspath(os.path.join('..', 'src'))\n",
    "sys.path.append(src_path)"
   ]
  },
  {
   "cell_type": "code",
   "execution_count": 2,
   "metadata": {},
   "outputs": [],
   "source": [
    "edge_list_path = r'C:\\Users\\User\\OneDrive - Imperial College London\\Desktop\\Documents\\GitHub\\IBM-Datathon\\Dataset\\raw_graph\\edges_list.csv'\n",
    "edges_df = pd.read_csv(edge_list_path)\n",
    "\n",
    "G = nx.from_pandas_edgelist(edges_df, source='source', target='target')"
   ]
  },
  {
   "cell_type": "code",
   "execution_count": null,
   "metadata": {},
   "outputs": [
    {
     "name": "stderr",
     "output_type": "stream",
     "text": [
      "Simulating at T=0.1: 100%|██████████| 100/100 [01:41<00:00,  1.02s/it]\n",
      "Simulating at T=0.30526315789473685: 100%|██████████| 100/100 [01:37<00:00,  1.02it/s]\n",
      "Simulating at T=0.5105263157894737: 100%|██████████| 100/100 [01:38<00:00,  1.02it/s]\n",
      "Simulating at T=0.7157894736842105: 100%|██████████| 100/100 [01:30<00:00,  1.11it/s]\n",
      "Simulating at T=0.9210526315789473: 100%|██████████| 100/100 [01:31<00:00,  1.10it/s]\n",
      "Simulating at T=1.1263157894736844:  82%|████████▏ | 82/100 [01:17<00:18,  1.00s/it]"
     ]
    }
   ],
   "source": [
    "# Define temperature range and simulation parameters\n",
    "temperatures = np.linspace(0.1, 4.0, 20)  # From 0.1 to 4.0\n",
    "steps_per_temperature = 100\n",
    "\n",
    "# Run the simulation\n",
    "ising_model = IsingModel(G)\n",
    "correlation_data = ising_model.simulate(temperatures, steps_per_temperature)\n",
    "\n",
    "# Plot the results\n",
    "IsingModel.plot_correlation_vs_temperature(correlation_data, temperatures)"
   ]
  }
 ],
 "metadata": {
  "kernelspec": {
   "display_name": "Python 3",
   "language": "python",
   "name": "python3"
  },
  "language_info": {
   "codemirror_mode": {
    "name": "ipython",
    "version": 3
   },
   "file_extension": ".py",
   "mimetype": "text/x-python",
   "name": "python",
   "nbconvert_exporter": "python",
   "pygments_lexer": "ipython3",
   "version": "3.12.3"
  }
 },
 "nbformat": 4,
 "nbformat_minor": 2
}
