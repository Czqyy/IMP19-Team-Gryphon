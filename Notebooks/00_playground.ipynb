{
 "cells": [
  {
   "cell_type": "code",
   "execution_count": 5,
   "metadata": {},
   "outputs": [],
   "source": [
    "import sys\n",
    "import os\n",
    "import networkx as nx\n",
    "import pandas as pd\n",
    "import numpy as np\n",
    "\n",
    "\n",
    "src_path = os.path.abspath(os.path.join('..', 'src'))\n",
    "sys.path.append(src_path)\n",
    "\n",
    "from Ising_Model.IsingModel import IsingModel\n",
    "\n",
    "\n",
    "src_path = os.path.abspath(os.path.join('..', 'src'))\n",
    "sys.path.append(src_path)"
   ]
  },
  {
   "cell_type": "code",
   "execution_count": 6,
   "metadata": {},
   "outputs": [],
   "source": [
    "edge_list_path = r'C:\\Users\\User\\OneDrive - Imperial College London\\Desktop\\Documents\\GitHub\\IBM-Datathon\\Dataset\\raw_graph\\edges_list.csv'\n",
    "edges_df = pd.read_csv(edge_list_path)\n",
    "\n",
    "G = nx.from_pandas_edgelist(edges_df, source='source', target='target')"
   ]
  },
  {
   "cell_type": "code",
   "execution_count": null,
   "metadata": {},
   "outputs": [
    {
     "name": "stderr",
     "output_type": "stream",
     "text": [
      "Simulating at T=0.1: 100%|██████████| 10/10 [11:55<00:00, 71.51s/it]\n",
      "Simulating at T=5.3578947368421055:  20%|██        | 2/10 [02:18<09:16, 69.56s/it]"
     ]
    }
   ],
   "source": [
    "\n",
    "\n",
    "temperatures = np.linspace(0.1, 100, 20)\n",
    "steps_per_temperature = 10\n",
    "\n",
    "# Run the simulation\n",
    "ising_model = IsingModel(G)\n",
    "energy_data, magnetization_data, correlation_data = ising_model.simulate(temperatures, steps_per_temperature)\n",
    "\n",
    "# Plot the results\n",
    "IsingModel.plot_quantity_vs_temperature(energy_data, temperatures, \"Energy\")\n",
    "IsingModel.plot_quantity_vs_temperature(magnetization_data, temperatures, \"Magnetization\")\n",
    "IsingModel.plot_quantity_vs_temperature(correlation_data, temperatures, \"Correlation\")"
   ]
  }
 ],
 "metadata": {
  "kernelspec": {
   "display_name": "Python 3",
   "language": "python",
   "name": "python3"
  },
  "language_info": {
   "codemirror_mode": {
    "name": "ipython",
    "version": 3
   },
   "file_extension": ".py",
   "mimetype": "text/x-python",
   "name": "python",
   "nbconvert_exporter": "python",
   "pygments_lexer": "ipython3",
   "version": "3.12.3"
  }
 },
 "nbformat": 4,
 "nbformat_minor": 2
}
